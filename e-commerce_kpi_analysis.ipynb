{
 "cells": [
  {
   "cell_type": "markdown",
   "id": "eb185d42",
   "metadata": {},
   "source": [
    "# E-Commerce KPI Analysis With Python And SQL\n",
    " **Made by Lucas Lopes - February 9, 2022**\n",
    "<hr size=\"1\" width=\"100%\">"
   ]
  },
  {
   "cell_type": "markdown",
   "id": "3861a1eb",
   "metadata": {},
   "source": [
    "<font size=\"5\"><strong> Definition of the business problem</strong></font><br>\n",
    "<hr size=\"1\" width=\"100%\">"
   ]
  },
  {
   "cell_type": "markdown",
   "id": "c6e3d399",
   "metadata": {},
   "source": [
    "<img src='https://business.trustedshops.it/hubfs/1-TS_B2B/content/IT/20200312-coronavirus-IT/laptop-online-shopping.png'><br>\n",
    "<hr size=\"1\" width=\"100%\">"
   ]
  },
  {
   "cell_type": "markdown",
   "id": "f89d2d85",
   "metadata": {},
   "source": [
    " \n",
    "<font size=\"3\"> Our group operates in more than 20 cities, reaching tens of thousands of orders per day. One of main missions as a Catalog Team is to provide to our customers the best experience possible, making sure they see all the important information on the app and get delivered all they asked for, even not having direct contact with them!</font><br><br>\n",
    "<font size=\"3\">\n",
    "    <strong>Purpose:</strong> this analysis aims to generate insights into the products and services offered by the company. Thus, we will seek answers to questions related to the pattern of consumption and sales in different stores and cities where the services are offered. We will use SQL language to query the database and Python to manipulate and generate views of the data.\n",
    "</font><br><br>\n",
    "<font size=\"2\"><strong>Note:</strong> To run this experiment, unzip all zipped files and bulk the csv files into your database.</font>\n",
    "<hr size=\"1\" width=\"100%\">"
   ]
  },
  {
   "cell_type": "markdown",
   "id": "5a995f10",
   "metadata": {},
   "source": [
    "\n",
    "<font size=\"3\">\n",
    "    <strong>Techlology used in this experiment:</strong><br>\n",
    "    <ul>\n",
    "        <li>SQL Language</li><br>\n",
    "        <li>Python Language</li><br>\n",
    "        <li>Microsoft SQLServer 2019 (RTM) - 15.0.2000.5 (X64)</li>\n",
    "    </ul>\n",
    "</font>\n",
    "<hr size=\"1\" width=\"100%\">"
   ]
  },
  {
   "cell_type": "markdown",
   "id": "5a3e6559",
   "metadata": {},
   "source": [
    "<font size=\"3\">\n",
    "You need install all the bellow libraries to run this jupyter Notebook.\n",
    "</font>"
   ]
  },
  {
   "cell_type": "code",
   "execution_count": 1,
   "id": "a9602f80",
   "metadata": {},
   "outputs": [],
   "source": [
    "# Importing the needed libraries. \n",
    "\n",
    "import pyodbc\n",
    "import pandas as pd\n",
    "import numpy as np\n",
    "import matplotlib.pyplot as plt\n",
    "import matplotlib as mpl\n",
    "import seaborn as sns\n",
    "import warnings\n",
    "warnings.filterwarnings('ignore')"
   ]
  },
  {
   "cell_type": "markdown",
   "id": "352cfd61",
   "metadata": {},
   "source": [
    "<font size=\"3\">\n",
    "Function to connect on SQLServer database. It return a connection when is called.\n",
    "</font><br>\n",
    "<font size=\"2\"><strong>Note:</strong> All files have been loaded into the database, the code for this is in the .sql file.</font>"
   ]
  },
  {
   "cell_type": "code",
   "execution_count": 2,
   "id": "b528c933",
   "metadata": {},
   "outputs": [],
   "source": [
    "def return_connection():\n",
    "    server = \"Your Server Addres here\"\n",
    "    database = \"Your database name\"\n",
    "    username = \"teste\"\n",
    "    password = \"teste1234\"\n",
    "    string_conexao = 'Driver={SQL Server Native Client 11.0};Server=' + server + ';Database=' + database + ';UID=' + username + ';PWD=' + password\n",
    "    try:\n",
    "        conexao = pyodbc.connect(string_conexao, autocommit=True)\n",
    "        return conexao\n",
    "    except:\n",
    "        return \"Erro de conexão ao banco de dados!\""
   ]
  },
  {
   "cell_type": "markdown",
   "id": "37d5dd4d",
   "metadata": {},
   "source": [
    "<hr size=\"1\" width=\"100%\">\n",
    "<font size=\"4\"><strong> Question 1</strong> - What's the number of orders per day of the week, distinguishing their status?</font><br>\n",
    "<hr size=\"1\" width=\"100%\">"
   ]
  },
  {
   "cell_type": "markdown",
   "id": "ec60bb2c",
   "metadata": {},
   "source": [
    "<font size=\"3\"> Making the SQL query and adding the column day in the table</font><br>"
   ]
  },
  {
   "cell_type": "code",
   "execution_count": 3,
   "id": "c620fec3",
   "metadata": {
    "scrolled": false
   },
   "outputs": [
    {
     "data": {
      "text/html": [
       "<div>\n",
       "<style scoped>\n",
       "    .dataframe tbody tr th:only-of-type {\n",
       "        vertical-align: middle;\n",
       "    }\n",
       "\n",
       "    .dataframe tbody tr th {\n",
       "        vertical-align: top;\n",
       "    }\n",
       "\n",
       "    .dataframe thead th {\n",
       "        text-align: right;\n",
       "    }\n",
       "</style>\n",
       "<table border=\"1\" class=\"dataframe\">\n",
       "  <thead>\n",
       "    <tr style=\"text-align: right;\">\n",
       "      <th></th>\n",
       "      <th>created_dow</th>\n",
       "      <th>order_status</th>\n",
       "      <th>qtd_orders</th>\n",
       "      <th>day</th>\n",
       "    </tr>\n",
       "  </thead>\n",
       "  <tbody>\n",
       "    <tr>\n",
       "      <th>0</th>\n",
       "      <td>0</td>\n",
       "      <td>DELIVERED</td>\n",
       "      <td>975</td>\n",
       "      <td>Sun</td>\n",
       "    </tr>\n",
       "    <tr>\n",
       "      <th>1</th>\n",
       "      <td>0</td>\n",
       "      <td>ONGOING</td>\n",
       "      <td>583</td>\n",
       "      <td>Sun</td>\n",
       "    </tr>\n",
       "    <tr>\n",
       "      <th>2</th>\n",
       "      <td>0</td>\n",
       "      <td>CANCELED</td>\n",
       "      <td>73</td>\n",
       "      <td>Sun</td>\n",
       "    </tr>\n",
       "    <tr>\n",
       "      <th>3</th>\n",
       "      <td>1</td>\n",
       "      <td>DELIVERED</td>\n",
       "      <td>1055</td>\n",
       "      <td>Mon</td>\n",
       "    </tr>\n",
       "    <tr>\n",
       "      <th>4</th>\n",
       "      <td>1</td>\n",
       "      <td>ONGOING</td>\n",
       "      <td>192</td>\n",
       "      <td>Mon</td>\n",
       "    </tr>\n",
       "  </tbody>\n",
       "</table>\n",
       "</div>"
      ],
      "text/plain": [
       "   created_dow order_status  qtd_orders  day\n",
       "0            0    DELIVERED         975  Sun\n",
       "1            0      ONGOING         583  Sun\n",
       "2            0     CANCELED          73  Sun\n",
       "3            1    DELIVERED        1055  Mon\n",
       "4            1      ONGOING         192  Mon"
      ]
     },
     "execution_count": 3,
     "metadata": {},
     "output_type": "execute_result"
    }
   ],
   "source": [
    "conn = return_connection()\n",
    "query = '''SELECT created_dow, order_status, COUNT(order_id) AS qtd_orders\n",
    "FROM tbl_orders GROUP BY created_dow, order_status ORDER BY created_dow ASC;'''\n",
    "question1 = pd.read_sql_query(query, conn)\n",
    "day = {0:'Sun', 1:'Mon', 2:'Tue', 3:'Wed', 4:'Thu', 5:'Fri', 6:'Sat'}\n",
    "question1['day'] = [day[question1['created_dow'][i]] for i in question1.index]\n",
    "question1.head(5)"
   ]
  },
  {
   "cell_type": "markdown",
   "id": "64d27b4a",
   "metadata": {},
   "source": [
    "<font size=\"3\"> With the table organized and grouped by status, we'll plot a chart to visualize the first KPI.</font><br>"
   ]
  },
  {
   "cell_type": "code",
   "execution_count": 4,
   "id": "2e7753a9",
   "metadata": {
    "scrolled": false
   },
   "outputs": [
    {
     "data": {
      "image/png": "[encoded data removed]",
      "text/plain": [
       "<Figure size 1008x432 with 1 Axes>"
      ]
     },
     "metadata": {
      "needs_background": "light"
     },
     "output_type": "display_data"
    }
   ],
   "source": [
    "# Plotting the graph with the generated table\n",
    "\n",
    "fig = plt.figure(figsize=(14,6))\n",
    "ax1 = sns.barplot(data=question1, x='created_dow', y= 'qtd_orders', hue='order_status',\n",
    "                  orient='v', palette=sns.color_palette(\"Paired\")[5:8])\n",
    "ax1.set_title('\\n Number Of Orders Per Day Of The Week, Distinguishing Their Status \\n\\n', fontdict={'fontsize':16})\n",
    "ax1.set_ylabel('\\n Number Of Orders \\n', fontdict={'fontsize':15})\n",
    "ax1.set_xlabel('\\n Day Of The Week \\n', fontdict={'fontsize':15})\n",
    "ax1.set_ylim(0, 1201)\n",
    "ax1.set_xticklabels(labels=question1['day'].unique(), fontdict={'fontsize':14})\n",
    "ax1.set_yticklabels(labels=range(0, 10001,200 ), fontdict={'fontsize':14})\n",
    "ax1.spines['top'].set_visible(False)\n",
    "ax1.spines['right'].set_visible(False)  \n",
    " \n",
    "for p in ax1.patches:\n",
    "    ax1.annotate(format(p.get_height(), '.0f'), \n",
    "               (p.get_x() + p.get_width() / 2., p.get_height()), \n",
    "               ha = 'center', va = 'center', \n",
    "               size=13,\n",
    "               xytext = (0, 7), \n",
    "               textcoords = 'offset points')\n",
    "    p.set_width(0.255)"
   ]
  },
  {
   "cell_type": "markdown",
   "id": "50cd6d72",
   "metadata": {},
   "source": [
    "<font size=\"3\"> With this plot, we can see that there are increase on the number of cancelation beginning by Sunday and that the delivered orders decrease from tuesday to saturday.</font><br>"
   ]
  },
  {
   "cell_type": "markdown",
   "id": "04aa6833",
   "metadata": {},
   "source": [
    "<hr size=\"1\" width=\"100%\">\n",
    "<font size=\"4\"><strong> Question 2</strong> - What's the cancelation rate grouped by each store?</font><br>\n",
    "<hr size=\"1\" width=\"100%\">"
   ]
  },
  {
   "cell_type": "markdown",
   "id": "23f8e489",
   "metadata": {},
   "source": [
    "\n",
    "<font size=\"3\"> Below, we have the SQL code to query data on database, this code combine some operations to transform the data.</font><br>"
   ]
  },
  {
   "cell_type": "code",
   "execution_count": 5,
   "id": "621b81c3",
   "metadata": {
    "scrolled": false
   },
   "outputs": [
    {
     "data": {
      "text/html": [
       "<div>\n",
       "<style scoped>\n",
       "    .dataframe tbody tr th:only-of-type {\n",
       "        vertical-align: middle;\n",
       "    }\n",
       "\n",
       "    .dataframe tbody tr th {\n",
       "        vertical-align: top;\n",
       "    }\n",
       "\n",
       "    .dataframe thead th {\n",
       "        text-align: right;\n",
       "    }\n",
       "</style>\n",
       "<table border=\"1\" class=\"dataframe\">\n",
       "  <thead>\n",
       "    <tr style=\"text-align: right;\">\n",
       "      <th></th>\n",
       "      <th>store</th>\n",
       "      <th>order_status</th>\n",
       "      <th>quantity</th>\n",
       "      <th>cancelation_rate</th>\n",
       "    </tr>\n",
       "  </thead>\n",
       "  <tbody>\n",
       "    <tr>\n",
       "      <th>4</th>\n",
       "      <td>c0b93cf93cf854981b8d6bd849eec4b0</td>\n",
       "      <td>CANCELED</td>\n",
       "      <td>151</td>\n",
       "      <td>2.171100</td>\n",
       "    </tr>\n",
       "    <tr>\n",
       "      <th>1</th>\n",
       "      <td>452ae015bf846e1d2932b7ea15720d64</td>\n",
       "      <td>CANCELED</td>\n",
       "      <td>87</td>\n",
       "      <td>1.250899</td>\n",
       "    </tr>\n",
       "    <tr>\n",
       "      <th>0</th>\n",
       "      <td>044d56734d20e04984d846dade6d39f3</td>\n",
       "      <td>CANCELED</td>\n",
       "      <td>30</td>\n",
       "      <td>0.431344</td>\n",
       "    </tr>\n",
       "    <tr>\n",
       "      <th>2</th>\n",
       "      <td>6447951cd071f6f045fd4e6194920926</td>\n",
       "      <td>CANCELED</td>\n",
       "      <td>24</td>\n",
       "      <td>0.345075</td>\n",
       "    </tr>\n",
       "    <tr>\n",
       "      <th>5</th>\n",
       "      <td>e27789d5e619b255663b2bfa68b5851f</td>\n",
       "      <td>CANCELED</td>\n",
       "      <td>17</td>\n",
       "      <td>0.244428</td>\n",
       "    </tr>\n",
       "  </tbody>\n",
       "</table>\n",
       "</div>"
      ],
      "text/plain": [
       "                              store order_status  quantity  cancelation_rate\n",
       "4  c0b93cf93cf854981b8d6bd849eec4b0     CANCELED       151          2.171100\n",
       "1  452ae015bf846e1d2932b7ea15720d64     CANCELED        87          1.250899\n",
       "0  044d56734d20e04984d846dade6d39f3     CANCELED        30          0.431344\n",
       "2  6447951cd071f6f045fd4e6194920926     CANCELED        24          0.345075\n",
       "5  e27789d5e619b255663b2bfa68b5851f     CANCELED        17          0.244428"
      ]
     },
     "execution_count": 5,
     "metadata": {},
     "output_type": "execute_result"
    }
   ],
   "source": [
    "query = '''SELECT\n",
    "d3.store,\n",
    "d3.order_status,\n",
    "d3.quantity,\n",
    "CAST(d3.quantity AS NUMERIC(15,3)) / CAST(d3.total AS NUMERIC(15,3)) * 100.0 AS cancelation_rate\n",
    "FROM (\n",
    "\tSELECT\n",
    "\td2.store,\n",
    "\td2.order_status,\n",
    "\td2.quantity,\n",
    "\td2.total\n",
    "\tFROM (\n",
    "\t\tSELECT\n",
    "\t\t\td1.store,\n",
    "\t\t\td1.order_status,\n",
    "\t\t\td1.quantity,\n",
    "\t\t\tCAST(SUM(d1.quantity) OVER() AS NUMERIC(15,3)) total\n",
    "\t\t\tFROM (\n",
    "\t\t\t\tSELECT\n",
    "\t\t\t\t\td.store,\n",
    "\t\t\t\t\td.order_status,\n",
    "\t\t\t\t\tCOUNT(d.order_status) AS quantity\n",
    "\t\t\t\t\t\tFROM (\n",
    "\t\t\t\t\t\tSELECT store, order_id, order_status FROM tbl_orders\n",
    "\t\t\t\t\t\tINNER JOIN tbl_store_branch ON tbl_store_branch.storebranch_id = tbl_orders.storebranch_id\n",
    "\t\t\t\t\t\t) d GROUP BY d.store, d.order_status) d1)d2 WHERE d2.order_status = 'CANCELED') d3 ORDER BY d3.store;'''\n",
    "\n",
    "question2 = pd.read_sql_query(query, conn)\n",
    "question2 = question2.sort_values(by='cancelation_rate', ascending=False)\n",
    "question2.head()"
   ]
  },
  {
   "cell_type": "markdown",
   "id": "cf21f0f2",
   "metadata": {},
   "source": [
    "<font size=\"3\"> With the created table, we need to plot a chart to view the cancelation rate grouped by each store.</font><br>"
   ]
  },
  {
   "cell_type": "code",
   "execution_count": 6,
   "id": "be3d3b22",
   "metadata": {
    "scrolled": false
   },
   "outputs": [
    {
     "data": {
      "image/png": "[encoded data removed]",
      "text/plain": [
       "<Figure size 720x504 with 1 Axes>"
      ]
     },
     "metadata": {
      "needs_background": "light"
     },
     "output_type": "display_data"
    }
   ],
   "source": [
    "# Setting data and parameters to create a graph\n",
    "\n",
    "p1, ax1 = plt.subplots(figsize=(10, 7))\n",
    "ax1 = sns.barplot(x=question2['cancelation_rate'], y=question2['store'], orient='h', palette=sns.color_palette(\"Paired\")[5:])\n",
    "ax1.set_title('\\n Cancelation Rate by Store \\n', fontdict={'fontsize':15})\n",
    "ax1.set_ylabel('\\n Store \\n', fontdict={'fontsize':15})\n",
    "ax1.set_xlabel('\\n Cancelation Rate \\n', fontdict={'fontsize':15})\n",
    "ax1.set_yticklabels(labels =question2['store'], fontdict={'fontsize':12})\n",
    "ax1.set_xlim()\n",
    "ax1.spines['top'].set_visible(False)\n",
    "ax1.spines['right'].set_visible(False)\n",
    "\n",
    "# plotting the data labels of  the bar chart\n",
    "for p in ax1.patches:\n",
    "    _x = p.get_x() + p.get_width() + 0.099\n",
    "    _y = p.get_y() + p.get_height() -0.3\n",
    "    value = str(round(p.get_width(), 2))\n",
    "    ax1.text(_x, _y, value, fontdict={'color':'black', 'fontsize':14},\n",
    "              horizontalalignment='center')"
   ]
  },
  {
   "cell_type": "markdown",
   "id": "81714190",
   "metadata": {},
   "source": [
    "\n",
    "\n",
    "<font size=\"3\"> With the chart above we can see that the mains cancelation rate is on the stores:<br><br> 1) c0b93cf93cf854981b8d6bd849eec4b0<br> 2) 452ae015bf846e1d2932b7ea15720d64</font><br>"
   ]
  },
  {
   "cell_type": "markdown",
   "id": "768b754d",
   "metadata": {},
   "source": [
    "<hr size=\"1\" width=\"100%\">\n",
    "<font size=\"4\"><strong> Question 3</strong> - What's the average found rate(*) of the orders grouped by store and city?</font><br>\n",
    "\n",
    "<font size=\"2\"><strong>Found Rate:</strong> ratio between the amount of product ids the customer requested (regardless of how much of each product was requested) and the quantity of product ids the shopper found (again, regardless of the how much of each product was found)</font><br>\n",
    "<hr size=\"1\" width=\"100%\">"
   ]
  },
  {
   "cell_type": "markdown",
   "id": "8e4e6927",
   "metadata": {},
   "source": [
    "<font size=\"3\"> Making the query on database</font><br>"
   ]
  },
  {
   "cell_type": "code",
   "execution_count": 7,
   "id": "8b5080ce",
   "metadata": {
    "scrolled": true
   },
   "outputs": [
    {
     "data": {
      "text/html": [
       "<div>\n",
       "<style scoped>\n",
       "    .dataframe tbody tr th:only-of-type {\n",
       "        vertical-align: middle;\n",
       "    }\n",
       "\n",
       "    .dataframe tbody tr th {\n",
       "        vertical-align: top;\n",
       "    }\n",
       "\n",
       "    .dataframe thead th {\n",
       "        text-align: right;\n",
       "    }\n",
       "</style>\n",
       "<table border=\"1\" class=\"dataframe\">\n",
       "  <thead>\n",
       "    <tr style=\"text-align: right;\">\n",
       "      <th></th>\n",
       "      <th>store</th>\n",
       "      <th>city</th>\n",
       "      <th>found</th>\n",
       "      <th>avg_found_rate</th>\n",
       "    </tr>\n",
       "  </thead>\n",
       "  <tbody>\n",
       "    <tr>\n",
       "      <th>0</th>\n",
       "      <td>044d56734d20e04984d846dade6d39f3</td>\n",
       "      <td>124a5007acdbf3654148e290aec94206</td>\n",
       "      <td>no</td>\n",
       "      <td>0.00</td>\n",
       "    </tr>\n",
       "    <tr>\n",
       "      <th>1</th>\n",
       "      <td>044d56734d20e04984d846dade6d39f3</td>\n",
       "      <td>124a5007acdbf3654148e290aec94206</td>\n",
       "      <td>yes</td>\n",
       "      <td>0.01</td>\n",
       "    </tr>\n",
       "    <tr>\n",
       "      <th>2</th>\n",
       "      <td>044d56734d20e04984d846dade6d39f3</td>\n",
       "      <td>32282234445dfe3c5b80c62656f0e9bf</td>\n",
       "      <td>no</td>\n",
       "      <td>0.01</td>\n",
       "    </tr>\n",
       "    <tr>\n",
       "      <th>3</th>\n",
       "      <td>044d56734d20e04984d846dade6d39f3</td>\n",
       "      <td>32282234445dfe3c5b80c62656f0e9bf</td>\n",
       "      <td>yes</td>\n",
       "      <td>0.03</td>\n",
       "    </tr>\n",
       "    <tr>\n",
       "      <th>4</th>\n",
       "      <td>044d56734d20e04984d846dade6d39f3</td>\n",
       "      <td>992afbe416daf0b89120bdfd78b64c53</td>\n",
       "      <td>no</td>\n",
       "      <td>0.01</td>\n",
       "    </tr>\n",
       "  </tbody>\n",
       "</table>\n",
       "</div>"
      ],
      "text/plain": [
       "                              store                              city found  \\\n",
       "0  044d56734d20e04984d846dade6d39f3  124a5007acdbf3654148e290aec94206    no   \n",
       "1  044d56734d20e04984d846dade6d39f3  124a5007acdbf3654148e290aec94206   yes   \n",
       "2  044d56734d20e04984d846dade6d39f3  32282234445dfe3c5b80c62656f0e9bf    no   \n",
       "3  044d56734d20e04984d846dade6d39f3  32282234445dfe3c5b80c62656f0e9bf   yes   \n",
       "4  044d56734d20e04984d846dade6d39f3  992afbe416daf0b89120bdfd78b64c53    no   \n",
       "\n",
       "   avg_found_rate  \n",
       "0            0.00  \n",
       "1            0.01  \n",
       "2            0.01  \n",
       "3            0.03  \n",
       "4            0.01  "
      ]
     },
     "execution_count": 7,
     "metadata": {},
     "output_type": "execute_result"
    }
   ],
   "source": [
    "query = '''SELECT\n",
    "\td2.store,\n",
    "\td2.city,\n",
    "\td2.found,\n",
    "\tROUND(CAST(d2.times_found AS NUMERIC(15,2)) / CAST(SUM(d2.times_found) \n",
    "\tOVER() AS NUMERIC (15,2)), 2) avg_found_rate\n",
    "FROM(\n",
    "\tSELECT\n",
    "\t\t\td1.store,\n",
    "\t\t\td1.city,\n",
    "\t\t\td1.found,\n",
    "\t\t\tCOUNT(d1.found) times_found\n",
    "\tFROM(\n",
    "\t\t\tSELECT\n",
    "\t\t\td.order_id,\n",
    "\t\t\td.store,\n",
    "\t\t\td.city,\n",
    "\t\t\td.product_id,\n",
    "\t\t\td.quantity_found,\n",
    "\n",
    "\t\t\tCASE\n",
    "\t\t\t\tWHEN d.quantity_found > 0 THEN 'yes'\n",
    "\t\t\t\tELSE 'no'\n",
    "\t\t\tEND found\n",
    "\t\t\t\tFROM (\n",
    "\t\t\t\t\tSELECT tbl_orders.order_id, store, city, product_id, quantity_found FROM tbl_orders\n",
    "\t\t\t\t\tINNER JOIN tbl_store_branch ON tbl_orders.storebranch_id = tbl_store_branch.storebranch_id \n",
    "\t\t\t\t\tINNER JOIN tbl_orders_product ON tbl_orders_product.order_id = tbl_orders.order_id)\n",
    "\t\t\t\t\td) d1 GROUP BY d1.store, d1.city,d1.found) d2;'''\n",
    "\n",
    "question3 = pd.read_sql_query(query, conn)\n",
    "question3.head()"
   ]
  },
  {
   "cell_type": "markdown",
   "id": "6fe0d16a",
   "metadata": {},
   "source": [
    "<font size=\"3\"> Here we will assign generic names to the stores and to the products, this will facilitate the visualization of the data.</font><br>"
   ]
  },
  {
   "cell_type": "code",
   "execution_count": 8,
   "id": "ae568d9f",
   "metadata": {},
   "outputs": [],
   "source": [
    "store = question3['store'].unique()\n",
    "city = question3['city'].unique()"
   ]
  },
  {
   "cell_type": "code",
   "execution_count": 9,
   "id": "25340804",
   "metadata": {},
   "outputs": [
    {
     "data": {
      "text/plain": [
       "array(['044d56734d20e04984d846dade6d39f3',\n",
       "       '452ae015bf846e1d2932b7ea15720d64',\n",
       "       '6447951cd071f6f045fd4e6194920926',\n",
       "       '9d65282d498c0338377867996e761399',\n",
       "       'c0b93cf93cf854981b8d6bd849eec4b0',\n",
       "       'e27789d5e619b255663b2bfa68b5851f'], dtype=object)"
      ]
     },
     "execution_count": 9,
     "metadata": {},
     "output_type": "execute_result"
    }
   ],
   "source": [
    "store"
   ]
  },
  {
   "cell_type": "code",
   "execution_count": 10,
   "id": "b7189bde",
   "metadata": {},
   "outputs": [
    {
     "data": {
      "text/plain": [
       "array(['124a5007acdbf3654148e290aec94206',\n",
       "       '32282234445dfe3c5b80c62656f0e9bf',\n",
       "       '992afbe416daf0b89120bdfd78b64c53',\n",
       "       '9b34c2119d40a8aaf639f44728a459ba',\n",
       "       '9b965979c8601c64f30b02d07036cf7a',\n",
       "       'b5f1a1890fb0b1db5f744a109a40a437'], dtype=object)"
      ]
     },
     "execution_count": 10,
     "metadata": {},
     "output_type": "execute_result"
    }
   ],
   "source": [
    "city"
   ]
  },
  {
   "cell_type": "code",
   "execution_count": 11,
   "id": "dc5e85bd",
   "metadata": {
    "scrolled": true
   },
   "outputs": [
    {
     "data": {
      "text/html": [
       "<div>\n",
       "<style scoped>\n",
       "    .dataframe tbody tr th:only-of-type {\n",
       "        vertical-align: middle;\n",
       "    }\n",
       "\n",
       "    .dataframe tbody tr th {\n",
       "        vertical-align: top;\n",
       "    }\n",
       "\n",
       "    .dataframe thead th {\n",
       "        text-align: right;\n",
       "    }\n",
       "</style>\n",
       "<table border=\"1\" class=\"dataframe\">\n",
       "  <thead>\n",
       "    <tr style=\"text-align: right;\">\n",
       "      <th></th>\n",
       "      <th>store</th>\n",
       "      <th>city</th>\n",
       "      <th>found</th>\n",
       "      <th>avg_found_rate</th>\n",
       "      <th>number_store</th>\n",
       "      <th>letter_city</th>\n",
       "    </tr>\n",
       "  </thead>\n",
       "  <tbody>\n",
       "    <tr>\n",
       "      <th>0</th>\n",
       "      <td>044d56734d20e04984d846dade6d39f3</td>\n",
       "      <td>124a5007acdbf3654148e290aec94206</td>\n",
       "      <td>no</td>\n",
       "      <td>0.00</td>\n",
       "      <td>Store 1</td>\n",
       "      <td>A</td>\n",
       "    </tr>\n",
       "    <tr>\n",
       "      <th>1</th>\n",
       "      <td>044d56734d20e04984d846dade6d39f3</td>\n",
       "      <td>124a5007acdbf3654148e290aec94206</td>\n",
       "      <td>yes</td>\n",
       "      <td>0.01</td>\n",
       "      <td>Store 1</td>\n",
       "      <td>A</td>\n",
       "    </tr>\n",
       "    <tr>\n",
       "      <th>2</th>\n",
       "      <td>044d56734d20e04984d846dade6d39f3</td>\n",
       "      <td>32282234445dfe3c5b80c62656f0e9bf</td>\n",
       "      <td>no</td>\n",
       "      <td>0.01</td>\n",
       "      <td>Store 1</td>\n",
       "      <td>B</td>\n",
       "    </tr>\n",
       "    <tr>\n",
       "      <th>3</th>\n",
       "      <td>044d56734d20e04984d846dade6d39f3</td>\n",
       "      <td>32282234445dfe3c5b80c62656f0e9bf</td>\n",
       "      <td>yes</td>\n",
       "      <td>0.03</td>\n",
       "      <td>Store 1</td>\n",
       "      <td>B</td>\n",
       "    </tr>\n",
       "    <tr>\n",
       "      <th>4</th>\n",
       "      <td>044d56734d20e04984d846dade6d39f3</td>\n",
       "      <td>992afbe416daf0b89120bdfd78b64c53</td>\n",
       "      <td>no</td>\n",
       "      <td>0.01</td>\n",
       "      <td>Store 1</td>\n",
       "      <td>C</td>\n",
       "    </tr>\n",
       "  </tbody>\n",
       "</table>\n",
       "</div>"
      ],
      "text/plain": [
       "                              store                              city found  \\\n",
       "0  044d56734d20e04984d846dade6d39f3  124a5007acdbf3654148e290aec94206    no   \n",
       "1  044d56734d20e04984d846dade6d39f3  124a5007acdbf3654148e290aec94206   yes   \n",
       "2  044d56734d20e04984d846dade6d39f3  32282234445dfe3c5b80c62656f0e9bf    no   \n",
       "3  044d56734d20e04984d846dade6d39f3  32282234445dfe3c5b80c62656f0e9bf   yes   \n",
       "4  044d56734d20e04984d846dade6d39f3  992afbe416daf0b89120bdfd78b64c53    no   \n",
       "\n",
       "   avg_found_rate number_store letter_city  \n",
       "0            0.00      Store 1           A  \n",
       "1            0.01      Store 1           A  \n",
       "2            0.01      Store 1           B  \n",
       "3            0.03      Store 1           B  \n",
       "4            0.01      Store 1           C  "
      ]
     },
     "execution_count": 11,
     "metadata": {},
     "output_type": "execute_result"
    }
   ],
   "source": [
    "store_dict = {\n",
    "       '044d56734d20e04984d846dade6d39f3':'Store 1',\n",
    "       '452ae015bf846e1d2932b7ea15720d64':'Store 2',\n",
    "       '6447951cd071f6f045fd4e6194920926':'Store 3',\n",
    "       '9d65282d498c0338377867996e761399':'Store 4',\n",
    "       'c0b93cf93cf854981b8d6bd849eec4b0':'Store 5',\n",
    "       'e27789d5e619b255663b2bfa68b5851f':'Store 6'\n",
    "}\n",
    "\n",
    "city_dict = {\n",
    "       '124a5007acdbf3654148e290aec94206':'A',\n",
    "       '32282234445dfe3c5b80c62656f0e9bf':'B',\n",
    "       '992afbe416daf0b89120bdfd78b64c53':'C',\n",
    "       '9b34c2119d40a8aaf639f44728a459ba':'D',\n",
    "       '9b965979c8601c64f30b02d07036cf7a':'E',\n",
    "       'b5f1a1890fb0b1db5f744a109a40a437':'F'\n",
    "}\n",
    "\n",
    "question3['number_store'] = [store_dict[question3['store'][i]] for i in question3.index]\n",
    "question3['letter_city'] = [city_dict[question3['city'][i]] for i in question3.index]\n",
    "question3.head()"
   ]
  },
  {
   "cell_type": "markdown",
   "id": "484f5a66",
   "metadata": {},
   "source": [
    "<font size=\"3\">\n",
    "    Now we have generic names for each store and product id.<br><br>\n",
    "    We are ready to plot the graph with the average found rate of the orders grouped by store and city\n",
    "</font><br>\n"
   ]
  },
  {
   "cell_type": "code",
   "execution_count": 12,
   "id": "bcdf4cc1",
   "metadata": {
    "scrolled": false
   },
   "outputs": [
    {
     "data": {
      "text/plain": [
       "<matplotlib.legend.Legend at 0x1eb20502d00>"
      ]
     },
     "execution_count": 12,
     "metadata": {},
     "output_type": "execute_result"
    },
    {
     "data": {
      "image/png": "[encoded data removed]",
      "text/plain": [
       "<Figure size 1008x432 with 1 Axes>"
      ]
     },
     "metadata": {
      "needs_background": "light"
     },
     "output_type": "display_data"
    }
   ],
   "source": [
    "# Plotting the graph with the generated table\n",
    "\n",
    "sns.color_palette(\"hls\", 8)   \n",
    "fig = plt.figure(figsize=(14,6))\n",
    "ax1 = sns.barplot(data=question3, x='number_store', y= 'avg_found_rate', hue='letter_city', ci=None, orient='v', palette=sns.color_palette(\"Paired\")[5:])\n",
    "ax1.set_title('\\n Average Found Rate Of the Orders by Store and City \\n\\n', fontdict={'fontsize':16})\n",
    "ax1.set_ylabel('\\n Found Rate \\n', fontdict={'fontsize':15})\n",
    "ax1.set_xlabel('\\n Stores \\n', fontdict={'fontsize':15})\n",
    "ax1.set_ylim(0, 0.09)\n",
    "ax1.set_xticklabels(labels=question3['number_store'].unique(), fontdict={'fontsize':14})\n",
    "ax1.spines['top'].set_visible(False)\n",
    "ax1.spines['right'].set_visible(False)  \n",
    "ax1.legend()"
   ]
  },
  {
   "cell_type": "markdown",
   "id": "4622dee4",
   "metadata": {},
   "source": [
    "<font size=\"3\">\n",
    "    The graph above shows a situation that appears to be worrying, suggesting that customers are not finding products as per their requests in stores 3, 4 and 6.<br>\n",
    "</font>"
   ]
  },
  {
   "cell_type": "markdown",
   "id": "96baf522",
   "metadata": {},
   "source": [
    "\n",
    "<hr size=\"1\" width=\"100%\">\n",
    "<font size=\"4\"><strong> Question 4</strong> - What's the top 3 selling products ids in total volume delivered to customer?</font>\n",
    "<hr size=\"1\" width=\"100%\">\n"
   ]
  },
  {
   "cell_type": "markdown",
   "id": "e5e9ba65",
   "metadata": {},
   "source": [
    "<font size=\"3\">\n",
    "    Querying the database <br>\n",
    "</font>"
   ]
  },
  {
   "cell_type": "code",
   "execution_count": 13,
   "id": "ff212ba6",
   "metadata": {
    "scrolled": true
   },
   "outputs": [
    {
     "data": {
      "text/html": [
       "<div>\n",
       "<style scoped>\n",
       "    .dataframe tbody tr th:only-of-type {\n",
       "        vertical-align: middle;\n",
       "    }\n",
       "\n",
       "    .dataframe tbody tr th {\n",
       "        vertical-align: top;\n",
       "    }\n",
       "\n",
       "    .dataframe thead th {\n",
       "        text-align: right;\n",
       "    }\n",
       "</style>\n",
       "<table border=\"1\" class=\"dataframe\">\n",
       "  <thead>\n",
       "    <tr style=\"text-align: right;\">\n",
       "      <th></th>\n",
       "      <th>product_id</th>\n",
       "      <th>total_quantity</th>\n",
       "    </tr>\n",
       "  </thead>\n",
       "  <tbody>\n",
       "    <tr>\n",
       "      <th>0</th>\n",
       "      <td>928ed632b4c042e0dd6566f11b69aed3</td>\n",
       "      <td>2879.0</td>\n",
       "    </tr>\n",
       "    <tr>\n",
       "      <th>1</th>\n",
       "      <td>7fe7035d71c3eeefed9d5e6ffe9351f8</td>\n",
       "      <td>2016.0</td>\n",
       "    </tr>\n",
       "    <tr>\n",
       "      <th>2</th>\n",
       "      <td>298a9cc86e93881c4193e9e03cbbeb7b</td>\n",
       "      <td>1877.0</td>\n",
       "    </tr>\n",
       "  </tbody>\n",
       "</table>\n",
       "</div>"
      ],
      "text/plain": [
       "                         product_id  total_quantity\n",
       "0  928ed632b4c042e0dd6566f11b69aed3          2879.0\n",
       "1  7fe7035d71c3eeefed9d5e6ffe9351f8          2016.0\n",
       "2  298a9cc86e93881c4193e9e03cbbeb7b          1877.0"
      ]
     },
     "execution_count": 13,
     "metadata": {},
     "output_type": "execute_result"
    }
   ],
   "source": [
    "query = '''SELECT TOP 3 product_id, SUM(CAST(quantity AS FLOAT)) AS total_quantity \n",
    "FROM tbl_orders_product \n",
    "GROUP BY product_id \n",
    "ORDER BY total_quantity DESC;'''\n",
    "\n",
    "question4 = pd.read_sql_query(query, conn)\n",
    "question4.head()"
   ]
  },
  {
   "cell_type": "markdown",
   "id": "16f70983",
   "metadata": {},
   "source": [
    "<font size=\"3\">\n",
    "    We will assign generic names to the products again<br>\n",
    "</font>"
   ]
  },
  {
   "cell_type": "code",
   "execution_count": 14,
   "id": "1105a08e",
   "metadata": {
    "scrolled": true
   },
   "outputs": [
    {
     "data": {
      "text/html": [
       "<div>\n",
       "<style scoped>\n",
       "    .dataframe tbody tr th:only-of-type {\n",
       "        vertical-align: middle;\n",
       "    }\n",
       "\n",
       "    .dataframe tbody tr th {\n",
       "        vertical-align: top;\n",
       "    }\n",
       "\n",
       "    .dataframe thead th {\n",
       "        text-align: right;\n",
       "    }\n",
       "</style>\n",
       "<table border=\"1\" class=\"dataframe\">\n",
       "  <thead>\n",
       "    <tr style=\"text-align: right;\">\n",
       "      <th></th>\n",
       "      <th>product_id</th>\n",
       "      <th>product_name</th>\n",
       "      <th>total_quantity</th>\n",
       "    </tr>\n",
       "  </thead>\n",
       "  <tbody>\n",
       "    <tr>\n",
       "      <th>0</th>\n",
       "      <td>928ed632b4c042e0dd6566f11b69aed3</td>\n",
       "      <td>Product A</td>\n",
       "      <td>2879.0</td>\n",
       "    </tr>\n",
       "    <tr>\n",
       "      <th>1</th>\n",
       "      <td>7fe7035d71c3eeefed9d5e6ffe9351f8</td>\n",
       "      <td>Product B</td>\n",
       "      <td>2016.0</td>\n",
       "    </tr>\n",
       "    <tr>\n",
       "      <th>2</th>\n",
       "      <td>298a9cc86e93881c4193e9e03cbbeb7b</td>\n",
       "      <td>Product C</td>\n",
       "      <td>1877.0</td>\n",
       "    </tr>\n",
       "  </tbody>\n",
       "</table>\n",
       "</div>"
      ],
      "text/plain": [
       "                         product_id product_name  total_quantity\n",
       "0  928ed632b4c042e0dd6566f11b69aed3    Product A          2879.0\n",
       "1  7fe7035d71c3eeefed9d5e6ffe9351f8    Product B          2016.0\n",
       "2  298a9cc86e93881c4193e9e03cbbeb7b    Product C          1877.0"
      ]
     },
     "execution_count": 14,
     "metadata": {},
     "output_type": "execute_result"
    }
   ],
   "source": [
    "question4 = pd.DataFrame(data = {'product_id':question4['product_id'].unique(),\n",
    "                           'product_name':['Product A','Product B','Product C'],\n",
    "                           'total_quantity':question4['total_quantity']})\n",
    "question4"
   ]
  },
  {
   "cell_type": "markdown",
   "id": "09f63afd",
   "metadata": {},
   "source": [
    "<font size=\"3\">\n",
    "    Now, we can plot the top 3 selling products<br>\n",
    "</font>"
   ]
  },
  {
   "cell_type": "code",
   "execution_count": 15,
   "id": "0c8c7fda",
   "metadata": {
    "scrolled": false
   },
   "outputs": [
    {
     "name": "stderr",
     "output_type": "stream",
     "text": [
      "No handles with labels found to put in legend.\n"
     ]
    },
    {
     "data": {
      "image/png": "[encoded data removed]",
      "text/plain": [
       "<Figure size 720x432 with 1 Axes>"
      ]
     },
     "metadata": {
      "needs_background": "light"
     },
     "output_type": "display_data"
    }
   ],
   "source": [
    "# Plotting the graph with the generated table\n",
    "sns.color_palette(\"hls\", 8)   \n",
    "fig = plt.figure(figsize=(10,6))\n",
    "ax1 = sns.barplot(data=question4, x='product_name', y= 'total_quantity', ci=None, orient='v', palette=sns.color_palette(\"Paired\")[5:])\n",
    "ax1.set_title(\"\\n Top 3 Selling Products ID's in Total Volume Delivered to Customer \\n\\n\", fontdict={'fontsize':16})\n",
    "ax1.set_ylabel('\\n Quantity \\n', fontdict={'fontsize':15})\n",
    "ax1.set_xlabel('\\n Product \\n', fontdict={'fontsize':15})\n",
    "ax1.set_ylim(0, 4001)\n",
    "ax1.set_xticklabels(labels=question4['product_name'], fontdict={'fontsize':14})\n",
    "ax1.spines['top'].set_visible(False)\n",
    "ax1.spines['right'].set_visible(False)  \n",
    "ax1.legend()\n",
    "\n",
    "for p in ax1.patches:\n",
    "    ax1.annotate(format(p.get_height(), '.0f'), \n",
    "               (p.get_x() + p.get_width() / 2., p.get_height()), \n",
    "               ha = 'center', va = 'center', \n",
    "               size=14,\n",
    "               xytext = (0, 7), \n",
    "               textcoords = 'offset points')\n"
   ]
  },
  {
   "cell_type": "markdown",
   "id": "e39d5808",
   "metadata": {},
   "source": [
    "<font size=\"3\">\n",
    "   These products certainly represent a large portion of the company's revenue, so sales actions must be directed to maintain the Top 3 selling.\n",
    "    <br>\n",
    "</font>"
   ]
  },
  {
   "cell_type": "markdown",
   "id": "0a235422",
   "metadata": {},
   "source": [
    "\n",
    "<hr size=\"1\" width=\"100%\">\n",
    "<font size=\"4\"><strong> Question 5</strong> - What's the % of delivered orders that were created and delivered in different days, grouped by hour of creation.</font>\n",
    "<hr size=\"1\" width=\"100%\">"
   ]
  },
  {
   "cell_type": "markdown",
   "id": "9143b4d1",
   "metadata": {},
   "source": [
    "<font size=\"3\">\n",
    "    Querying the database <br>\n",
    "</font>"
   ]
  },
  {
   "cell_type": "code",
   "execution_count": 16,
   "id": "7544241b",
   "metadata": {
    "scrolled": false
   },
   "outputs": [
    {
     "data": {
      "text/html": [
       "<div>\n",
       "<style scoped>\n",
       "    .dataframe tbody tr th:only-of-type {\n",
       "        vertical-align: middle;\n",
       "    }\n",
       "\n",
       "    .dataframe tbody tr th {\n",
       "        vertical-align: top;\n",
       "    }\n",
       "\n",
       "    .dataframe thead th {\n",
       "        text-align: right;\n",
       "    }\n",
       "</style>\n",
       "<table border=\"1\" class=\"dataframe\">\n",
       "  <thead>\n",
       "    <tr style=\"text-align: right;\">\n",
       "      <th></th>\n",
       "      <th>same_day</th>\n",
       "      <th>created_hour</th>\n",
       "      <th>qtd</th>\n",
       "      <th>total</th>\n",
       "      <th>perc</th>\n",
       "    </tr>\n",
       "  </thead>\n",
       "  <tbody>\n",
       "    <tr>\n",
       "      <th>0</th>\n",
       "      <td>no</td>\n",
       "      <td>00</td>\n",
       "      <td>68</td>\n",
       "      <td>5466</td>\n",
       "      <td>1.244054</td>\n",
       "    </tr>\n",
       "    <tr>\n",
       "      <th>1</th>\n",
       "      <td>yes</td>\n",
       "      <td>00</td>\n",
       "      <td>2</td>\n",
       "      <td>5466</td>\n",
       "      <td>0.036590</td>\n",
       "    </tr>\n",
       "    <tr>\n",
       "      <th>2</th>\n",
       "      <td>no</td>\n",
       "      <td>01</td>\n",
       "      <td>27</td>\n",
       "      <td>5466</td>\n",
       "      <td>0.493963</td>\n",
       "    </tr>\n",
       "    <tr>\n",
       "      <th>3</th>\n",
       "      <td>yes</td>\n",
       "      <td>01</td>\n",
       "      <td>3</td>\n",
       "      <td>5466</td>\n",
       "      <td>0.054885</td>\n",
       "    </tr>\n",
       "    <tr>\n",
       "      <th>4</th>\n",
       "      <td>no</td>\n",
       "      <td>02</td>\n",
       "      <td>20</td>\n",
       "      <td>5466</td>\n",
       "      <td>0.365898</td>\n",
       "    </tr>\n",
       "  </tbody>\n",
       "</table>\n",
       "</div>"
      ],
      "text/plain": [
       "  same_day created_hour  qtd  total      perc\n",
       "0       no           00   68   5466  1.244054\n",
       "1      yes           00    2   5466  0.036590\n",
       "2       no           01   27   5466  0.493963\n",
       "3      yes           01    3   5466  0.054885\n",
       "4       no           02   20   5466  0.365898"
      ]
     },
     "execution_count": 16,
     "metadata": {},
     "output_type": "execute_result"
    }
   ],
   "source": [
    "query = '''SELECT\n",
    "d3.same_day,\n",
    "d3.created_hour,\n",
    "d3.qtd,\n",
    "d3.total,\n",
    "(CAST(d3.qtd AS NUMERIC (15, 3)) / CAST(d3.total AS NUMERIC (15, 3))) * 100.0 AS perc\n",
    "FROM (\n",
    "\tSELECT\n",
    "\t\td2.same_day,\n",
    "\t\td2.created_hour,\n",
    "\t\td2.qtd,\n",
    "\t\tSUM(d2.qtd) OVER() AS total\n",
    "\tFROM (\n",
    "\t\tSELECT\n",
    "\t\td1.same_day,\n",
    "\t\td1.created_hour,\n",
    "\t\tCOUNT(d1.same_day) AS qtd\n",
    "\t\tFROM(\n",
    "\t\t\tSELECT\n",
    "\t\t\td.order_id,\n",
    "\t\t\td.created_time,\n",
    "\t\t\td.created_dow,\n",
    "\t\t\td.delivered_dow,\n",
    "\t\t\tLEFT(d.created_time, 2) AS created_hour,\n",
    "\t\t\tCASE\n",
    "\t\t\t\tWHEN d.created_dow <> d.delivered_dow THEN 'yes'\n",
    "\t\t\t\tELSE 'no'\n",
    "\t\t\tEND same_day\n",
    "\t\t\t\tFROM(\n",
    "\t\t\t\tSELECT order_id, created_time, created_dow, delivered_dow\n",
    "\t\t\t\tFROM tbl_orders WHERE order_status = 'DELIVERED') d) d1 GROUP BY d1.same_day, d1.created_hour)d2 )d3;'''\n",
    "\n",
    "question5 = pd.read_sql_query(query, conn)\n",
    "question5.head()"
   ]
  },
  {
   "cell_type": "markdown",
   "id": "a00b94d2",
   "metadata": {},
   "source": [
    "<font size=\"3\">\n",
    "    Here we have the percent for two categories on column \"same day\", yes or no for delivered at same day. <br><br>\n",
    "</font>"
   ]
  },
  {
   "cell_type": "code",
   "execution_count": 17,
   "id": "cf069832",
   "metadata": {
    "scrolled": false
   },
   "outputs": [
    {
     "data": {
      "image/png": "[encoded data removed]",
      "text/plain": [
       "<Figure size 1152x432 with 1 Axes>"
      ]
     },
     "metadata": {},
     "output_type": "display_data"
    }
   ],
   "source": [
    "# Plotting the graph with the generated table\n",
    "\n",
    "cs = [sns.color_palette(\"Paired\")[9], sns.color_palette(\"Paired\")[5]]\n",
    "sns.set_theme()\n",
    "fontdict={'fontsize':14}\n",
    "plt.figure(figsize=(16,6))\n",
    "ax = sns.lineplot(data = question5, x = 'created_hour', y = 'perc', hue='same_day', style='same_day', palette=cs )\n",
    "ax.set_title('\\n Percent of Delivered Orders That Were Created and Delivered in Different Days by Hour of Creation \\n',\n",
    "             fontdict={'fontsize':16})\n",
    "ax.set_ylim(0, 10)\n",
    "ax.set_xlabel('\\n Times of Day \\n', fontdict=fontdict)\n",
    "ax.set_ylabel('\\n Percent (%)\\n', fontdict=fontdict)\n",
    "plt.show()"
   ]
  },
  {
   "cell_type": "markdown",
   "id": "b80dd92f",
   "metadata": {},
   "source": [
    "<font size=\"3\">\n",
    "    We can see that the later orders are placed, the more likely they are to be delivered on another day. <br><br>\n",
    "</font>"
   ]
  },
  {
   "cell_type": "markdown",
   "id": "3f8ae70f",
   "metadata": {},
   "source": [
    "\n",
    "<hr size=\"1\" width=\"100%\">\n",
    "<font size=\"4\"><strong> Question 6</strong> - How many products there are in each partition of the ABC Sales Curve grouped by store.</font>\n",
    "<hr size=\"1\" width=\"100%\">"
   ]
  },
  {
   "cell_type": "markdown",
   "id": "7c14fa9a",
   "metadata": {},
   "source": [
    "<font size=\"3\">\n",
    "    Querying the database <br>\n",
    "</font>"
   ]
  },
  {
   "cell_type": "code",
   "execution_count": 18,
   "id": "87c1aaaf",
   "metadata": {
    "scrolled": true
   },
   "outputs": [
    {
     "data": {
      "text/html": [
       "<div>\n",
       "<style scoped>\n",
       "    .dataframe tbody tr th:only-of-type {\n",
       "        vertical-align: middle;\n",
       "    }\n",
       "\n",
       "    .dataframe tbody tr th {\n",
       "        vertical-align: top;\n",
       "    }\n",
       "\n",
       "    .dataframe thead th {\n",
       "        text-align: right;\n",
       "    }\n",
       "</style>\n",
       "<table border=\"1\" class=\"dataframe\">\n",
       "  <thead>\n",
       "    <tr style=\"text-align: right;\">\n",
       "      <th></th>\n",
       "      <th>store</th>\n",
       "      <th>class_abc</th>\n",
       "      <th>quantity_abc</th>\n",
       "    </tr>\n",
       "  </thead>\n",
       "  <tbody>\n",
       "    <tr>\n",
       "      <th>0</th>\n",
       "      <td>044d56734d20e04984d846dade6d39f3</td>\n",
       "      <td>A</td>\n",
       "      <td>225</td>\n",
       "    </tr>\n",
       "    <tr>\n",
       "      <th>1</th>\n",
       "      <td>044d56734d20e04984d846dade6d39f3</td>\n",
       "      <td>B</td>\n",
       "      <td>673</td>\n",
       "    </tr>\n",
       "    <tr>\n",
       "      <th>2</th>\n",
       "      <td>044d56734d20e04984d846dade6d39f3</td>\n",
       "      <td>C</td>\n",
       "      <td>2050</td>\n",
       "    </tr>\n",
       "    <tr>\n",
       "      <th>3</th>\n",
       "      <td>452ae015bf846e1d2932b7ea15720d64</td>\n",
       "      <td>A</td>\n",
       "      <td>234</td>\n",
       "    </tr>\n",
       "    <tr>\n",
       "      <th>4</th>\n",
       "      <td>452ae015bf846e1d2932b7ea15720d64</td>\n",
       "      <td>B</td>\n",
       "      <td>719</td>\n",
       "    </tr>\n",
       "  </tbody>\n",
       "</table>\n",
       "</div>"
      ],
      "text/plain": [
       "                              store class_abc  quantity_abc\n",
       "0  044d56734d20e04984d846dade6d39f3         A           225\n",
       "1  044d56734d20e04984d846dade6d39f3         B           673\n",
       "2  044d56734d20e04984d846dade6d39f3         C          2050\n",
       "3  452ae015bf846e1d2932b7ea15720d64         A           234\n",
       "4  452ae015bf846e1d2932b7ea15720d64         B           719"
      ]
     },
     "execution_count": 18,
     "metadata": {},
     "output_type": "execute_result"
    }
   ],
   "source": [
    "query = '''SELECT d3.store,\n",
    "\t   d3.class_abc,\n",
    "\t   COUNT(d3.class_abc) AS quantity_abc\n",
    "FROM (\n",
    "SELECT d2.store,\n",
    "\t   d2.product_id,\n",
    "\t   d2.total_billing,\n",
    "\t   d2.grand_total,\n",
    "\t   d2.perc,\n",
    "\t   d2.acc_perc,\n",
    "\t   CASE\n",
    "\t\t\tWHEN d2.acc_perc <= 80 THEN 'A'\n",
    "\t\t\tWHEN d2.acc_perc <= 95 THEN 'B'\n",
    "\t\t\tELSE 'C'\n",
    "\t\tEND class_abc\n",
    "FROM (\n",
    "SELECT d1.store,\n",
    "\t   d1.product_id,\n",
    "\t   d1.total_billing,\n",
    "\t   d1.grand_total,\n",
    "\t   d1.perc,\n",
    "\t   SUM(d1.perc) OVER(ORDER BY d1.total_billing DESC) acc_perc\n",
    "\n",
    "FROM (\n",
    "SELECT d.store,\n",
    "\td.product_id,\n",
    "\td.total_billing,\n",
    "\tSUM(d.total_billing) OVER() grand_total,\n",
    "\tCAST(d.total_billing AS NUMERIC(15,3)) / CAST(SUM(d.total_billing) OVER() AS NUMERIC(15,3)) * 100 perc\n",
    "\t\tFROM (\n",
    "\t\t\tSELECT store, product_id, SUM(CAST(quantity AS FLOAT))* sum(unit_price) AS total_billing FROM tbl_orders\n",
    "\t\t\tINNER JOIN tbl_store_branch ON tbl_orders.storebranch_id = tbl_store_branch.storebranch_id \n",
    "\t\t\tINNER JOIN tbl_orders_product ON tbl_orders_product.order_id = tbl_orders.order_id\n",
    "\t\t\tGROUP BY store, product_id) d) d1) d2)d3 group by  d3.store, d3.class_abc ORDER BY d3.store, d3.class_abc;'''\n",
    "\n",
    "question6 = pd.read_sql_query(query, conn)\n",
    "question6.head()"
   ]
  },
  {
   "cell_type": "markdown",
   "id": "b30cc7a4",
   "metadata": {},
   "source": [
    "<font size=\"3\">\n",
    "    In this table we have the amount of products existing in each interval of the ABC curve grouped by store.  <br>\n",
    "</font>"
   ]
  },
  {
   "cell_type": "code",
   "execution_count": 19,
   "id": "867c60cd",
   "metadata": {
    "scrolled": false
   },
   "outputs": [
    {
     "data": {
      "text/plain": [
       "array(['044d56734d20e04984d846dade6d39f3',\n",
       "       '452ae015bf846e1d2932b7ea15720d64',\n",
       "       '6447951cd071f6f045fd4e6194920926',\n",
       "       '9d65282d498c0338377867996e761399',\n",
       "       'c0b93cf93cf854981b8d6bd849eec4b0',\n",
       "       'e27789d5e619b255663b2bfa68b5851f'], dtype=object)"
      ]
     },
     "execution_count": 19,
     "metadata": {},
     "output_type": "execute_result"
    }
   ],
   "source": [
    "question6['store'].unique()"
   ]
  },
  {
   "cell_type": "markdown",
   "id": "bad0d4a0",
   "metadata": {},
   "source": [
    "<font size=\"3\">\n",
    "    We will assign generic names to the products again<br>\n",
    "</font>"
   ]
  },
  {
   "cell_type": "code",
   "execution_count": 20,
   "id": "b5740129",
   "metadata": {
    "scrolled": false
   },
   "outputs": [
    {
     "data": {
      "text/html": [
       "<div>\n",
       "<style scoped>\n",
       "    .dataframe tbody tr th:only-of-type {\n",
       "        vertical-align: middle;\n",
       "    }\n",
       "\n",
       "    .dataframe tbody tr th {\n",
       "        vertical-align: top;\n",
       "    }\n",
       "\n",
       "    .dataframe thead th {\n",
       "        text-align: right;\n",
       "    }\n",
       "</style>\n",
       "<table border=\"1\" class=\"dataframe\">\n",
       "  <thead>\n",
       "    <tr style=\"text-align: right;\">\n",
       "      <th></th>\n",
       "      <th>store</th>\n",
       "      <th>class_abc</th>\n",
       "      <th>quantity_abc</th>\n",
       "      <th>number_store</th>\n",
       "    </tr>\n",
       "  </thead>\n",
       "  <tbody>\n",
       "    <tr>\n",
       "      <th>0</th>\n",
       "      <td>044d56734d20e04984d846dade6d39f3</td>\n",
       "      <td>A</td>\n",
       "      <td>225</td>\n",
       "      <td>Store 1</td>\n",
       "    </tr>\n",
       "    <tr>\n",
       "      <th>1</th>\n",
       "      <td>044d56734d20e04984d846dade6d39f3</td>\n",
       "      <td>B</td>\n",
       "      <td>673</td>\n",
       "      <td>Store 1</td>\n",
       "    </tr>\n",
       "    <tr>\n",
       "      <th>2</th>\n",
       "      <td>044d56734d20e04984d846dade6d39f3</td>\n",
       "      <td>C</td>\n",
       "      <td>2050</td>\n",
       "      <td>Store 1</td>\n",
       "    </tr>\n",
       "    <tr>\n",
       "      <th>3</th>\n",
       "      <td>452ae015bf846e1d2932b7ea15720d64</td>\n",
       "      <td>A</td>\n",
       "      <td>234</td>\n",
       "      <td>Store 2</td>\n",
       "    </tr>\n",
       "    <tr>\n",
       "      <th>4</th>\n",
       "      <td>452ae015bf846e1d2932b7ea15720d64</td>\n",
       "      <td>B</td>\n",
       "      <td>719</td>\n",
       "      <td>Store 2</td>\n",
       "    </tr>\n",
       "  </tbody>\n",
       "</table>\n",
       "</div>"
      ],
      "text/plain": [
       "                              store class_abc  quantity_abc number_store\n",
       "0  044d56734d20e04984d846dade6d39f3         A           225      Store 1\n",
       "1  044d56734d20e04984d846dade6d39f3         B           673      Store 1\n",
       "2  044d56734d20e04984d846dade6d39f3         C          2050      Store 1\n",
       "3  452ae015bf846e1d2932b7ea15720d64         A           234      Store 2\n",
       "4  452ae015bf846e1d2932b7ea15720d64         B           719      Store 2"
      ]
     },
     "execution_count": 20,
     "metadata": {},
     "output_type": "execute_result"
    }
   ],
   "source": [
    "store_dict = {\n",
    "       '044d56734d20e04984d846dade6d39f3':'Store 1',\n",
    "       '452ae015bf846e1d2932b7ea15720d64':'Store 2',\n",
    "       '6447951cd071f6f045fd4e6194920926':'Store 3',\n",
    "       '9d65282d498c0338377867996e761399':'Store 4',\n",
    "       'c0b93cf93cf854981b8d6bd849eec4b0':'Store 5',\n",
    "       'e27789d5e619b255663b2bfa68b5851f':'Store 6'\n",
    "}\n",
    "\n",
    "question6['number_store'] = [store_dict[question6['store'][i]] for i in question6.index]\n",
    "question6.head()"
   ]
  },
  {
   "cell_type": "markdown",
   "id": "7fff291e",
   "metadata": {},
   "source": [
    "<font size=\"3\">\n",
    "    Now, we can plot the result of the ABC Analysis.<br>\n",
    "</font>\n"
   ]
  },
  {
   "cell_type": "code",
   "execution_count": 21,
   "id": "79c349e7",
   "metadata": {
    "scrolled": false
   },
   "outputs": [
    {
     "data": {
      "image/png": "[encoded data removed]",
      "text/plain": [
       "<Figure size 1008x432 with 1 Axes>"
      ]
     },
     "metadata": {},
     "output_type": "display_data"
    }
   ],
   "source": [
    "# Plotting the graph with the generated table\n",
    "sns.set_theme(style=\"white\")  \n",
    "fig = plt.figure(figsize=(14,6))\n",
    "ax1 = sns.barplot(data=question6, x='number_store', y= 'quantity_abc', hue='class_abc', orient='v', palette=sns.color_palette(\"Paired\")[5:8])\n",
    "ax1.set_title('\\n Quantity of Products in Each Partition of The ABC Sales Curve by Store \\n\\n', fontdict={'fontsize':16})\n",
    "ax1.set_ylabel('\\n Quantity \\n', fontdict={'fontsize':15})\n",
    "ax1.set_xlabel('\\n Stores \\n', fontdict={'fontsize':15})\n",
    "ax1.set_ylim(0, 8001)\n",
    "ax1.set_xticklabels(labels=question6['number_store'].unique(), fontdict={'fontsize':14})\n",
    "ax1.set_yticklabels(labels=range(0, 8001, 1000), fontdict={'fontsize':14})\n",
    "ax1.spines['top'].set_visible(False)\n",
    "ax1.spines['right'].set_visible(False)  \n",
    " \n",
    "for p in ax1.patches:\n",
    "    ax1.annotate(format(p.get_height(), '.0f'), \n",
    "               (p.get_x() + p.get_width() / 2., p.get_height()), \n",
    "               ha = 'center', va = 'center', \n",
    "               size=13,\n",
    "               xytext = (0, 7), \n",
    "               textcoords = 'offset points')\n",
    "    p.set_width(0.255)"
   ]
  },
  {
   "cell_type": "markdown",
   "id": "c95d3194",
   "metadata": {},
   "source": [
    "<font size=\"3\">\n",
    "    Looking at the graph, we can easily identify the Pareto principle, in which 80% of the effects are due to 20% of the causes. We can see that category A of products has a lower quantity than all the others, but is responsible for about 80% of the revenue.\n",
    "    <br>\n",
    "</font>"
   ]
  },
  {
   "cell_type": "markdown",
   "id": "fe93b449",
   "metadata": {},
   "source": [
    "\n",
    "<hr size=\"1\" width=\"100%\">\n",
    "<font size=\"4\"><strong> Question 7</strong> - What's the % of delivered orders in which the picker_id and driver_id are different?</font>\n",
    "<hr size=\"1\" width=\"100%\">"
   ]
  },
  {
   "cell_type": "markdown",
   "id": "ffa2800d",
   "metadata": {},
   "source": [
    "<font size=\"3\">\n",
    "    Querying the database <br>\n",
    "</font>"
   ]
  },
  {
   "cell_type": "code",
   "execution_count": 22,
   "id": "ccf4bbf8",
   "metadata": {},
   "outputs": [
    {
     "data": {
      "text/html": [
       "<div>\n",
       "<style scoped>\n",
       "    .dataframe tbody tr th:only-of-type {\n",
       "        vertical-align: middle;\n",
       "    }\n",
       "\n",
       "    .dataframe tbody tr th {\n",
       "        vertical-align: top;\n",
       "    }\n",
       "\n",
       "    .dataframe thead th {\n",
       "        text-align: right;\n",
       "    }\n",
       "</style>\n",
       "<table border=\"1\" class=\"dataframe\">\n",
       "  <thead>\n",
       "    <tr style=\"text-align: right;\">\n",
       "      <th></th>\n",
       "      <th>class</th>\n",
       "      <th>quantity</th>\n",
       "      <th>percent_</th>\n",
       "    </tr>\n",
       "  </thead>\n",
       "  <tbody>\n",
       "    <tr>\n",
       "      <th>0</th>\n",
       "      <td>different</td>\n",
       "      <td>2</td>\n",
       "      <td>0.03</td>\n",
       "    </tr>\n",
       "    <tr>\n",
       "      <th>1</th>\n",
       "      <td>equal</td>\n",
       "      <td>6953</td>\n",
       "      <td>99.97</td>\n",
       "    </tr>\n",
       "  </tbody>\n",
       "</table>\n",
       "</div>"
      ],
      "text/plain": [
       "       class  quantity  percent_\n",
       "0  different         2      0.03\n",
       "1      equal      6953     99.97"
      ]
     },
     "execution_count": 22,
     "metadata": {},
     "output_type": "execute_result"
    }
   ],
   "source": [
    "query = '''SELECT\n",
    "\td2.class,\n",
    "\td2.quantity,\n",
    "\tROUND(CAST(d2.quantity AS NUMERIC(15,2)) / CAST(SUM(d2.quantity) OVER() AS NUMERIC (15,2))*100, 2) percent_\n",
    "\t\tFROM (\n",
    "\n",
    "\t\tSELECT\n",
    "\t\td1.class,\n",
    "\t\tCOUNT(d1.class) quantity\n",
    "\t\t\tFROM (\n",
    "\n",
    "\t\t\tSELECT\n",
    "\t\t\td.order_id,\n",
    "\t\t\tCASE\n",
    "\t\t\t\tWHEN d.picker_id <> d.driver_id THEN 'different'\n",
    "\t\t\t\tELSE 'equal'\n",
    "\t\t\tEND class\n",
    "\n",
    "\t\t\t\tFROM (\n",
    "\t\t\t\tSELECT tbl_orders.picker_id, tbl_orders.driver_id, tbl_orders.order_id\n",
    "\t\t\t\tFROM tbl_orders\n",
    "\t\t\t\t) d) d1 GROUP BY d1.class) d2;'''\n",
    "\n",
    "question7 = pd.read_sql_query(query, conn)\n",
    "question7.head()"
   ]
  },
  {
   "cell_type": "code",
   "execution_count": 23,
   "id": "6c25730c",
   "metadata": {
    "scrolled": false
   },
   "outputs": [
    {
     "data": {
      "image/png": "[encoded data removed]",
      "text/plain": [
       "<Figure size 180x180 with 1 Axes>"
      ]
     },
     "metadata": {},
     "output_type": "display_data"
    }
   ],
   "source": [
    "# Plot\n",
    "\n",
    "labels = [str(question7['class'][line]) + ' ' + str(round(question7['percent_'][line], 2)) + '%' for line in question7.index]\n",
    "\n",
    "cs = [sns.color_palette(\"Paired\")[9], sns.color_palette(\"Paired\")[5]]\n",
    "f = plt.figure(figsize=(2.5, 2.5))\n",
    "\n",
    "# Pie Plot\n",
    "plt.pie(question7['quantity'], labeldistance = 1, radius = 3, colors = cs, wedgeprops = dict(width = 1))\n",
    "plt.legend(labels = labels, loc = 'center', prop = {'size':12})\n",
    "plt.title(\"\\n Percent of Delivered Orders in Which the picker_id and driver_id Are Different\",\n",
    "          pad=140, fontdict = {'fontsize':14,'fontweight':20})\n",
    "plt.show()"
   ]
  },
  {
   "cell_type": "markdown",
   "id": "9f9b7596",
   "metadata": {},
   "source": [
    "<font size=\"3\">\n",
    "    As the graph above shows, only about 0.03% of sales have different picker_id and driver_id.<br>\n",
    "</font>\n",
    "<hr size=\"1\" width=\"100%\">"
   ]
  },
  {
   "cell_type": "markdown",
   "id": "5228e195",
   "metadata": {},
   "source": [
    "<font size=\"5\">\n",
    "    <strong>Main conclusions about the KPI's:</strong><br><br>\n",
    "</font>\n",
    "<hr size=\"1\" width=\"100%\">\n",
    "<font size=\"3\">\n",
    "\n",
    "<ol>\n",
    "<li>It is necessary to investigate further why the cancellation fees are higher at the beginning of the week.<br><br>\n",
    "    <ol>\n",
    "    <li>Is there any relationship with the waiting time?</li><br>\n",
    "    <li>Is there any relationship with the number of requests?</li><br>\n",
    "    </ol>\n",
    "</li>\n",
    "<li>The cancellation rate per store suggests that there are differences between stores.<br><br>\n",
    " <ol>\n",
    "   <li>Could these differences be in product quality or delivery time?</li><br>\n",
    " </ol>\n",
    "</li>\n",
    "    \n",
    "<li>The average rate of requests and products found also suggests that it is necessary to investigate the causes of the difference in performance between stores.<br><br>\n",
    "    <ol>\n",
    "        <li>Why do some stores have such a low found rate?</li><br>\n",
    "        <li>Are these stores being stocked at the correct frequency?</li><br>\n",
    "        <li>Is the store's product catalog being updated on time?</li><br>\n",
    "    </ol>\n",
    "</li>\n",
    "<li>These products certainly represent a large portion of the company's revenue, so sales actions must be directed to maintain the Top 3 selling. In this context, it makes sense to investigate some points such as:<br><br>\n",
    "    <ol>\n",
    "        <li>Why are these products the best sellers?</li><br>\n",
    "        <li>What is your price range?</li><br>\n",
    "        <li>How is the found rate for these products?</li><br>\n",
    "        <li>On which days are these products most sold?</li><br>\n",
    "    </ol>\n",
    "</li>\n",
    "<li>We can see that the later orders are placed, the more likely they are to be delivered on another day.<br><br>\n",
    "    <ol>\n",
    "        <li>What would be the percentage of orders created and delivered on the same day per store?</li><br>\n",
    "    </ol>\n",
    "</li>\n",
    "<li>What are the products contained in partition A of ABC analysis?<br><br>\n",
    "    <ol>\n",
    "    <li>How are these products being made available?</li><br>\n",
    "    <li>Are there active marketing campaigns to strengthen the image of these products?</li><br>\n",
    "</ol>\n",
    "</li>\n",
    "<li>Practically 99.9% of the establishments that make requests are the same ones that deliver.</li><br>\n",
    "</ol>\n",
    "</font>\n"
   ]
  },
  {
   "cell_type": "markdown",
   "id": "458b0810",
   "metadata": {},
   "source": [
    "<hr size=\"1\" width=\"100%\">\n",
    "<font size=\"6\">\n",
    "    <strong> Thank you!</strong><br><br>\n",
    "</font>\n",
    "<font size=\"2\">\n",
    "    If you have any doubts, you can contact me by email: <a src='<hr size=\"50\" width=\"100%\">'>lucasflopes012@gmail.com<a><br><br>\n",
    "</font>\n",
    "<hr size=\"1\" width=\"100%\">"
   ]
  }
 ],
 "metadata": {
  "kernelspec": {
   "display_name": "Python 3",
   "language": "python",
   "name": "python3"
  },
  "language_info": {
   "codemirror_mode": {
    "name": "ipython",
    "version": 3
   },
   "file_extension": ".py",
   "mimetype": "text/x-python",
   "name": "python",
   "nbconvert_exporter": "python",
   "pygments_lexer": "ipython3",
   "version": "3.8.8"
  }
 },
 "nbformat": 4,
 "nbformat_minor": 5
}
